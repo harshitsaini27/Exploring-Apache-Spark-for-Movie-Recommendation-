{
 "cells": [
  {
   "cell_type": "markdown",
   "id": "95af9484",
   "metadata": {
    "papermill": {
     "duration": 0.007744,
     "end_time": "2023-08-12T10:36:04.838117",
     "exception": false,
     "start_time": "2023-08-12T10:36:04.830373",
     "status": "completed"
    },
    "tags": []
   },
   "source": [
    "\n",
    "## <span style=\"color: blue;\">Exploring Apache Spark for Movie Recommendation</span>\n",
    "\n",
    "In this notebook, we delve into the world of Apache Spark and its role in crafting an effective movie recommendation system. Discover how the distributed computing prowess of Apache Spark, coupled with its MLlib library, empowers us to build personalized movie suggestions that cater to diverse user preferences.\n",
    "<div style=\"margin-top: 20px;\"></div>\n",
    "<div style=\"text-align:center;\">\n",
    "    <img src=\"https://miro.medium.com/v2/resize:fit:1087/1*DC4f9ZEl0V0b-OJvEcBp4A.jpeg\" alt=\"Image\" width=\"600\"/>\n",
    "</div>\n",
    "\n",
    "\n",
    "\n",
    "# Apache Spark Overview:\n",
    "\n",
    "Apache Spark stands as a powerful, open-source distributed computing framework designed for processing vast amounts of data with remarkable speed and flexibility. Renowned for its in-memory processing capabilities, fault tolerance, and support for various data processing tasks, Spark's versatility extends to machine learning, streaming analytics, and interactive querying. Its distributed architecture makes it a prime candidate for developing intricate applications, such as our movie recommendation system, by enabling seamless data manipulation and processing across large clusters.\n",
    "<div style=\"margin-top: 20px;\"></div>\n",
    "<div style=\"text-align:center;\">\n",
    "    <img src=\"https://d1.awsstatic.com/Data%20Lake/what-is-apache-spark.b3a3099296936df595d9a7d3610f1a77ff0749df.PNG\" alt=\"Image\" width=\"600\"/>\n",
    "</div>\n",
    "\n",
    "\n",
    "\n"
   ]
  },
  {
   "cell_type": "markdown",
   "id": "15ba26f1",
   "metadata": {
    "papermill": {
     "duration": 0.006563,
     "end_time": "2023-08-12T10:36:04.851618",
     "exception": false,
     "start_time": "2023-08-12T10:36:04.845055",
     "status": "completed"
    },
    "tags": []
   },
   "source": [
    "# Import Required Libraries"
   ]
  },
  {
   "cell_type": "code",
   "execution_count": 1,
   "id": "42d83921",
   "metadata": {
    "execution": {
     "iopub.execute_input": "2023-08-12T10:36:04.867248Z",
     "iopub.status.busy": "2023-08-12T10:36:04.866406Z",
     "iopub.status.idle": "2023-08-12T10:36:50.201982Z",
     "shell.execute_reply": "2023-08-12T10:36:50.200648Z"
    },
    "papermill": {
     "duration": 45.346866,
     "end_time": "2023-08-12T10:36:50.205088",
     "exception": false,
     "start_time": "2023-08-12T10:36:04.858222",
     "status": "completed"
    },
    "tags": []
   },
   "outputs": [
    {
     "name": "stdout",
     "output_type": "stream",
     "text": [
      "Collecting pyspark\r\n",
      "  Downloading pyspark-3.4.1.tar.gz (310.8 MB)\r\n",
      "\u001b[2K     \u001b[90m━━━━━━━━━━━━━━━━━━━━━━━━━━━━━━━━━━━━━━━\u001b[0m \u001b[32m310.8/310.8 MB\u001b[0m \u001b[31m4.0 MB/s\u001b[0m eta \u001b[36m0:00:00\u001b[0m\r\n",
      "\u001b[?25h  Preparing metadata (setup.py) ... \u001b[?25l-\b \b\\\b \bdone\r\n",
      "\u001b[?25hRequirement already satisfied: py4j==0.10.9.7 in /opt/conda/lib/python3.10/site-packages (from pyspark) (0.10.9.7)\r\n",
      "Building wheels for collected packages: pyspark\r\n",
      "  Building wheel for pyspark (setup.py) ... \u001b[?25l-\b \b\\\b \b|\b \b/\b \b-\b \b\\\b \b|\b \b/\b \b-\b \b\\\b \b|\b \b/\b \bdone\r\n",
      "\u001b[?25h  Created wheel for pyspark: filename=pyspark-3.4.1-py2.py3-none-any.whl size=311285413 sha256=d8470af2fa4581c795ddb8b5bfce1b26d70be49eea1f115d2ce50538fce13adf\r\n",
      "  Stored in directory: /root/.cache/pip/wheels/0d/77/a3/ff2f74cc9ab41f8f594dabf0579c2a7c6de920d584206e0834\r\n",
      "Successfully built pyspark\r\n",
      "Installing collected packages: pyspark\r\n",
      "Successfully installed pyspark-3.4.1\r\n"
     ]
    }
   ],
   "source": [
    "!pip install pyspark\n"
   ]
  },
  {
   "cell_type": "code",
   "execution_count": 2,
   "id": "e87a4da6",
   "metadata": {
    "execution": {
     "iopub.execute_input": "2023-08-12T10:36:50.244000Z",
     "iopub.status.busy": "2023-08-12T10:36:50.243646Z",
     "iopub.status.idle": "2023-08-12T10:36:51.767416Z",
     "shell.execute_reply": "2023-08-12T10:36:51.766492Z"
    },
    "papermill": {
     "duration": 1.542667,
     "end_time": "2023-08-12T10:36:51.769792",
     "exception": false,
     "start_time": "2023-08-12T10:36:50.227125",
     "status": "completed"
    },
    "tags": []
   },
   "outputs": [
    {
     "name": "stderr",
     "output_type": "stream",
     "text": [
      "/opt/conda/lib/python3.10/site-packages/scipy/__init__.py:146: UserWarning: A NumPy version >=1.16.5 and <1.23.0 is required for this version of SciPy (detected version 1.23.5\n",
      "  warnings.warn(f\"A NumPy version >={np_minversion} and <{np_maxversion}\"\n"
     ]
    }
   ],
   "source": [
    "import numpy as np # linear algebra\n",
    "import pandas as pd # data processing, CSV file I/O (e.g. pd.read_csv)\n",
    "import matplotlib.pyplot as plt\n",
    "import seaborn as sns\n",
    "import sklearn\n",
    "import random\n",
    "import os\n",
    "from pyspark.sql import SparkSession "
   ]
  },
  {
   "cell_type": "markdown",
   "id": "ba6e87fd",
   "metadata": {
    "papermill": {
     "duration": 0.014648,
     "end_time": "2023-08-12T10:36:51.799558",
     "exception": false,
     "start_time": "2023-08-12T10:36:51.784910",
     "status": "completed"
    },
    "tags": []
   },
   "source": [
    "# Data Preprocessing\n",
    "**1. Create a Spark Session**"
   ]
  },
  {
   "cell_type": "code",
   "execution_count": 3,
   "id": "777363bc",
   "metadata": {
    "execution": {
     "iopub.execute_input": "2023-08-12T10:36:51.831100Z",
     "iopub.status.busy": "2023-08-12T10:36:51.830757Z",
     "iopub.status.idle": "2023-08-12T10:36:58.296841Z",
     "shell.execute_reply": "2023-08-12T10:36:58.295406Z"
    },
    "papermill": {
     "duration": 6.486948,
     "end_time": "2023-08-12T10:36:58.301557",
     "exception": false,
     "start_time": "2023-08-12T10:36:51.814609",
     "status": "completed"
    },
    "tags": []
   },
   "outputs": [
    {
     "name": "stderr",
     "output_type": "stream",
     "text": [
      "Setting default log level to \"WARN\".\n",
      "To adjust logging level use sc.setLogLevel(newLevel). For SparkR, use setLogLevel(newLevel).\n",
      "23/08/12 10:36:56 WARN NativeCodeLoader: Unable to load native-hadoop library for your platform... using builtin-java classes where applicable\n"
     ]
    }
   ],
   "source": [
    "# Creating a Spark Session is an essential step when working with PySpark, and it serves as the entry point to using various Spark functionalities. \n",
    "#The SparkSession.builderallows you to configure various aspects of the session, such as the application name.\n",
    "\n",
    "spark = SparkSession.builder.appName('Recommender_system').getOrCreate()"
   ]
  },
  {
   "cell_type": "code",
   "execution_count": 4,
   "id": "02d09946",
   "metadata": {
    "execution": {
     "iopub.execute_input": "2023-08-12T10:36:58.339222Z",
     "iopub.status.busy": "2023-08-12T10:36:58.338872Z",
     "iopub.status.idle": "2023-08-12T10:37:50.332110Z",
     "shell.execute_reply": "2023-08-12T10:37:50.331104Z"
    },
    "papermill": {
     "duration": 52.014118,
     "end_time": "2023-08-12T10:37:50.335142",
     "exception": false,
     "start_time": "2023-08-12T10:36:58.321024",
     "status": "completed"
    },
    "tags": []
   },
   "outputs": [
    {
     "name": "stderr",
     "output_type": "stream",
     "text": [
      "                                                                                \r"
     ]
    },
    {
     "name": "stdout",
     "output_type": "stream",
     "text": [
      "+------+-------+------+----------+\n",
      "|userId|movieId|rating| timestamp|\n",
      "+------+-------+------+----------+\n",
      "|     1|    296|   5.0|1147880044|\n",
      "|     1|    306|   3.5|1147868817|\n",
      "|     1|    307|   5.0|1147868828|\n",
      "|     1|    665|   5.0|1147878820|\n",
      "|     1|    899|   3.5|1147868510|\n",
      "|     1|   1088|   4.0|1147868495|\n",
      "|     1|   1175|   3.5|1147868826|\n",
      "|     1|   1217|   3.5|1147878326|\n",
      "|     1|   1237|   5.0|1147868839|\n",
      "|     1|   1250|   4.0|1147868414|\n",
      "|     1|   1260|   3.5|1147877857|\n",
      "|     1|   1653|   4.0|1147868097|\n",
      "|     1|   2011|   2.5|1147868079|\n",
      "|     1|   2012|   2.5|1147868068|\n",
      "|     1|   2068|   2.5|1147869044|\n",
      "|     1|   2161|   3.5|1147868609|\n",
      "|     1|   2351|   4.5|1147877957|\n",
      "|     1|   2573|   4.0|1147878923|\n",
      "|     1|   2632|   5.0|1147878248|\n",
      "|     1|   2692|   5.0|1147869100|\n",
      "+------+-------+------+----------+\n",
      "only showing top 20 rows\n",
      "\n"
     ]
    }
   ],
   "source": [
    "# The data is read using the spark.read module, which is part of the PySpark SQL library. \n",
    "#This module provides methods to read data from various sources and convert it into a DataFrame\n",
    "data = spark.read.csv(\"/kaggle/input/movie-recommendation-system/ratings.csv\", header=True, inferSchema=True)\n",
    "data.show()"
   ]
  },
  {
   "cell_type": "code",
   "execution_count": 5,
   "id": "c7147482",
   "metadata": {
    "execution": {
     "iopub.execute_input": "2023-08-12T10:37:50.383931Z",
     "iopub.status.busy": "2023-08-12T10:37:50.383499Z",
     "iopub.status.idle": "2023-08-12T10:38:01.628554Z",
     "shell.execute_reply": "2023-08-12T10:38:01.627570Z"
    },
    "papermill": {
     "duration": 11.272947,
     "end_time": "2023-08-12T10:38:01.631577",
     "exception": false,
     "start_time": "2023-08-12T10:37:50.358630",
     "status": "completed"
    },
    "tags": []
   },
   "outputs": [
    {
     "name": "stderr",
     "output_type": "stream",
     "text": [
      "[Stage 3:=================================================>         (5 + 1) / 6]\r"
     ]
    },
    {
     "name": "stdout",
     "output_type": "stream",
     "text": [
      "Number of rows: 25000095\n",
      "Number of columns: 4\n"
     ]
    },
    {
     "name": "stderr",
     "output_type": "stream",
     "text": [
      "                                                                                \r"
     ]
    }
   ],
   "source": [
    "num_rows = data.count()\n",
    "\n",
    "# Count the number of columns\n",
    "num_columns = len(data.columns)\n",
    "\n",
    "# Print the shape\n",
    "print(\"Number of rows:\", num_rows)\n",
    "print(\"Number of columns:\", num_columns)"
   ]
  },
  {
   "cell_type": "code",
   "execution_count": 6,
   "id": "f63e6b81",
   "metadata": {
    "execution": {
     "iopub.execute_input": "2023-08-12T10:38:01.680597Z",
     "iopub.status.busy": "2023-08-12T10:38:01.680146Z",
     "iopub.status.idle": "2023-08-12T10:38:02.759867Z",
     "shell.execute_reply": "2023-08-12T10:38:02.758005Z"
    },
    "papermill": {
     "duration": 1.106936,
     "end_time": "2023-08-12T10:38:02.763063",
     "exception": false,
     "start_time": "2023-08-12T10:38:01.656127",
     "status": "completed"
    },
    "tags": []
   },
   "outputs": [
    {
     "name": "stdout",
     "output_type": "stream",
     "text": [
      "+-------+--------------------+--------------------+\n",
      "|movieId|               title|              genres|\n",
      "+-------+--------------------+--------------------+\n",
      "|      1|    Toy Story (1995)|Adventure|Animati...|\n",
      "|      2|      Jumanji (1995)|Adventure|Childre...|\n",
      "|      3|Grumpier Old Men ...|      Comedy|Romance|\n",
      "|      4|Waiting to Exhale...|Comedy|Drama|Romance|\n",
      "|      5|Father of the Bri...|              Comedy|\n",
      "|      6|         Heat (1995)|Action|Crime|Thri...|\n",
      "|      7|      Sabrina (1995)|      Comedy|Romance|\n",
      "|      8| Tom and Huck (1995)|  Adventure|Children|\n",
      "|      9| Sudden Death (1995)|              Action|\n",
      "|     10|    GoldenEye (1995)|Action|Adventure|...|\n",
      "|     11|American Presiden...|Comedy|Drama|Romance|\n",
      "|     12|Dracula: Dead and...|       Comedy|Horror|\n",
      "|     13|        Balto (1995)|Adventure|Animati...|\n",
      "|     14|        Nixon (1995)|               Drama|\n",
      "|     15|Cutthroat Island ...|Action|Adventure|...|\n",
      "|     16|       Casino (1995)|         Crime|Drama|\n",
      "|     17|Sense and Sensibi...|       Drama|Romance|\n",
      "|     18|   Four Rooms (1995)|              Comedy|\n",
      "|     19|Ace Ventura: When...|              Comedy|\n",
      "|     20|  Money Train (1995)|Action|Comedy|Cri...|\n",
      "+-------+--------------------+--------------------+\n",
      "only showing top 20 rows\n",
      "\n"
     ]
    }
   ],
   "source": [
    "# Read data from CSV file\n",
    "movie_names_data = spark.read.csv(\"/kaggle/input/movie-recommendation-system/movies.csv\", header=True, inferSchema=True)\n",
    "movie_names_data.show()"
   ]
  },
  {
   "cell_type": "code",
   "execution_count": 7,
   "id": "7a5913ee",
   "metadata": {
    "execution": {
     "iopub.execute_input": "2023-08-12T10:38:02.812351Z",
     "iopub.status.busy": "2023-08-12T10:38:02.811918Z",
     "iopub.status.idle": "2023-08-12T10:38:02.819640Z",
     "shell.execute_reply": "2023-08-12T10:38:02.818748Z"
    },
    "papermill": {
     "duration": 0.037041,
     "end_time": "2023-08-12T10:38:02.824086",
     "exception": false,
     "start_time": "2023-08-12T10:38:02.787045",
     "status": "completed"
    },
    "tags": []
   },
   "outputs": [
    {
     "name": "stdout",
     "output_type": "stream",
     "text": [
      "root\n",
      " |-- userId: integer (nullable = true)\n",
      " |-- movieId: integer (nullable = true)\n",
      " |-- rating: double (nullable = true)\n",
      " |-- timestamp: integer (nullable = true)\n",
      "\n"
     ]
    }
   ],
   "source": [
    "# The printSchema()method in PySpark is used to display the schema of a DataFrame.\n",
    "#The schema includes the data types of each column and provides valuable information about the structure of the data\n",
    "data.printSchema()\n"
   ]
  },
  {
   "cell_type": "code",
   "execution_count": 8,
   "id": "ee3b2f69",
   "metadata": {
    "execution": {
     "iopub.execute_input": "2023-08-12T10:38:02.872260Z",
     "iopub.status.busy": "2023-08-12T10:38:02.871850Z",
     "iopub.status.idle": "2023-08-12T10:38:48.611654Z",
     "shell.execute_reply": "2023-08-12T10:38:48.610436Z"
    },
    "papermill": {
     "duration": 45.767675,
     "end_time": "2023-08-12T10:38:48.614994",
     "exception": false,
     "start_time": "2023-08-12T10:38:02.847319",
     "status": "completed"
    },
    "tags": []
   },
   "outputs": [
    {
     "name": "stderr",
     "output_type": "stream",
     "text": [
      "23/08/12 10:38:03 WARN package: Truncated the string representation of a plan since it was too large. This behavior can be adjusted by setting 'spark.sql.debug.maxToStringFields'.\n",
      "[Stage 9:=================================================>         (5 + 1) / 6]\r"
     ]
    },
    {
     "name": "stdout",
     "output_type": "stream",
     "text": [
      "+-------+-----------------+------------------+------------------+--------------------+\n",
      "|summary|           userId|           movieId|            rating|           timestamp|\n",
      "+-------+-----------------+------------------+------------------+--------------------+\n",
      "|  count|         25000095|          25000095|          25000095|            25000095|\n",
      "|   mean|81189.28115381162|21387.981943268616| 3.533854451353085|1.2156014431215513E9|\n",
      "| stddev|46791.71589745776| 39198.86210105973|1.0607439611423535| 2.268758080595386E8|\n",
      "|    min|                1|                 1|               0.5|           789652009|\n",
      "|    max|           162541|            209171|               5.0|          1574327703|\n",
      "+-------+-----------------+------------------+------------------+--------------------+\n",
      "\n"
     ]
    },
    {
     "name": "stderr",
     "output_type": "stream",
     "text": [
      "                                                                                \r"
     ]
    }
   ],
   "source": [
    "data.describe().show()"
   ]
  },
  {
   "cell_type": "markdown",
   "id": "7864e02a",
   "metadata": {
    "papermill": {
     "duration": 0.024124,
     "end_time": "2023-08-12T10:38:48.664948",
     "exception": false,
     "start_time": "2023-08-12T10:38:48.640824",
     "status": "completed"
    },
    "tags": []
   },
   "source": [
    "> To create a bar graph in PySpark using your data that includes ratings and film names,we'll first need to aggregate the data to compute some meaningful values for the bar graph. Since we want to visualize ratings for different films, we can calculate the average rating for each film. Then, we can use a visualization library like Matplotlib (integrated with PySpark) to create the bar graph."
   ]
  },
  {
   "cell_type": "code",
   "execution_count": 9,
   "id": "534b3bfe",
   "metadata": {
    "execution": {
     "iopub.execute_input": "2023-08-12T10:38:48.715377Z",
     "iopub.status.busy": "2023-08-12T10:38:48.714863Z",
     "iopub.status.idle": "2023-08-12T10:40:57.938431Z",
     "shell.execute_reply": "2023-08-12T10:40:57.937429Z"
    },
    "papermill": {
     "duration": 129.267644,
     "end_time": "2023-08-12T10:40:57.957257",
     "exception": false,
     "start_time": "2023-08-12T10:38:48.689613",
     "status": "completed"
    },
    "tags": []
   },
   "outputs": [
    {
     "name": "stderr",
     "output_type": "stream",
     "text": [
      "                                                                                \r"
     ]
    },
    {
     "data": {
      "image/png": "[encoded data removed]",
      "text/plain": [
       "<Figure size 1000x600 with 1 Axes>"
      ]
     },
     "metadata": {},
     "output_type": "display_data"
    }
   ],
   "source": [
    "import matplotlib.pyplot as plt\n",
    "from pyspark.sql.functions import avg  \n",
    "\n",
    "# Calculate average ratings for each movie\n",
    "avg_ratings = data.groupBy(\"movieId\").agg(avg(\"rating\").alias(\"avg_rating\"))\n",
    "\n",
    "# Join the average ratings with movie names based on the movieId column\n",
    "combined_data = avg_ratings.join(movie_names_data, on=\"movieId\")\n",
    "\n",
    "# Convert the PySpark DataFrame to a Pandas DataFrame for plotting\n",
    "combined_data_pd = combined_data.toPandas()\n",
    "\n",
    "# Create a bar plot\n",
    "plt.figure(figsize=(10, 6))\n",
    "plt.bar(combined_data_pd[\"movieId\"], combined_data_pd[\"avg_rating\"])\n",
    "plt.xlabel(\"Movie ID\")\n",
    "plt.ylabel(\"Average Rating\")\n",
    "plt.title(\"Average Ratings for Movies\")\n",
    "plt.show()\n"
   ]
  },
  {
   "cell_type": "code",
   "execution_count": 10,
   "id": "1f9f1aae",
   "metadata": {
    "execution": {
     "iopub.execute_input": "2023-08-12T10:40:57.998355Z",
     "iopub.status.busy": "2023-08-12T10:40:57.996477Z",
     "iopub.status.idle": "2023-08-12T10:43:03.071462Z",
     "shell.execute_reply": "2023-08-12T10:43:03.070503Z"
    },
    "papermill": {
     "duration": 125.154118,
     "end_time": "2023-08-12T10:43:03.130647",
     "exception": false,
     "start_time": "2023-08-12T10:40:57.976529",
     "status": "completed"
    },
    "tags": []
   },
   "outputs": [
    {
     "name": "stderr",
     "output_type": "stream",
     "text": [
      "[Stage 16:================================================>         (5 + 1) / 6]\r"
     ]
    },
    {
     "name": "stdout",
     "output_type": "stream",
     "text": [
      "Number of rows in train_data: 19997916\n"
     ]
    },
    {
     "name": "stderr",
     "output_type": "stream",
     "text": [
      "[Stage 19:================================================>         (5 + 1) / 6]\r"
     ]
    },
    {
     "name": "stdout",
     "output_type": "stream",
     "text": [
      "Number of rows in test_data: 5002179\n"
     ]
    },
    {
     "name": "stderr",
     "output_type": "stream",
     "text": [
      "                                                                                \r"
     ]
    }
   ],
   "source": [
    "\n",
    "#the randomSplit()** method is used to split the DataFrame into training and testing sets. \n",
    "#The first argument [0.8, 0.2] specifies the relative sizes of the training and testing sets. \n",
    "#Here, 80% of the data is used for training, and 20% is used for testing. The seed parameter ensures reproducibility of the random split.\n",
    "# Split the data into training and testing sets\n",
    "train_data, test_data = data.randomSplit([0.8, 0.2], seed=123)\n",
    "\n",
    "# Show the number of rows in the training and testing sets\n",
    "print(\"Number of rows in train_data:\", train_data.count())\n",
    "print(\"Number of rows in test_data:\", test_data.count())"
   ]
  },
  {
   "cell_type": "markdown",
   "id": "f0091c8d",
   "metadata": {
    "papermill": {
     "duration": 0.030187,
     "end_time": "2023-08-12T10:43:03.203114",
     "exception": false,
     "start_time": "2023-08-12T10:43:03.172927",
     "status": "completed"
    },
    "tags": []
   },
   "source": [
    "# Collaborative Filtering and Content-Based Filtering :\n",
    "\n",
    "are two common techniques used in recommendation systems, each with its own approach to generating recommendations. Let's explore the differences between these two approaches:\n",
    "\n",
    "<div style=\"margin-top: 10px;\"></div>\n",
    "<div style=\"text-align:center;\">\n",
    "    <img src=\"https://media.licdn.com/dms/image/D5612AQEExRLStceeYA/article-cover_image-shrink_600_2000/0/1689434179800?e=2147483647&v=beta&t=KipDFqsnwxpf1QijFZ0zzpRPUgKDz4pcRRJONFzQwTc\" alt=\"Image\" width=\"600\"/>\n",
    "</div>\n",
    "\n",
    "\n",
    "\n",
    "\n",
    "<div style=\"margin-top: 20px;\"></div>\n",
    "\n",
    "> **1. Collaborative Filtering:**\n",
    "\n",
    "> Collaborative Filtering is a technique that makes recommendations based on the behavior and preferences of users. It assumes that users who agreed in the past (by liking, rating, or interacting with similar items) will agree in the future. Collaborative Filtering doesn't rely on explicit knowledge about items but rather on the patterns of user-item interactions.\n",
    "\n",
    "There are two main types of Collaborative Filtering:\n",
    "\n",
    "> **User-Based Collaborative Filtering:** This approach finds users who are similar to the target user based on their past interactions and recommends items liked by similar users.\n",
    "\n",
    "> **Item-Based Collaborative Filtering**: This approach finds items that are similar to the target item based on users' past interactions and recommends similar items.\n",
    "\n",
    "Collaborative Filtering can handle cases where user-item interactions are sparse or where there's no detailed information about the items. It often works well in scenarios where user preferences are dynamic and may change over time.\n",
    "\n",
    "<div style=\"margin-top: 20px;\"></div>\n",
    "<div style=\"text-align:center;\">\n",
    "    <img src=\"https://miro.medium.com/v2/resize:fit:1400/1*3ALliiz9hG79_2xopzgyrQ.png\" alt=\"Image\" width=\"800\"/>\n",
    "</div>\n",
    "\n",
    "\n",
    "\n",
    "\n",
    "<div style=\"margin-top: 30px;\"></div>\n",
    "\n",
    "\n",
    "> **2. Content-Based Filtering:**\n",
    "\n",
    "> Content-Based Filtering, on the other hand, makes recommendations based on the characteristics (content) of items and a profile of the user's preferences. It involves extracting features or attributes from items and building user profiles based on the items they have liked or interacted with in the past.\n",
    "\n",
    "The key steps in Content-Based Filtering are:\n",
    "\n",
    "> **Feature Extraction:** Extract relevant features from the items (e.g., genre, keywords, actors, director, etc. for movies).\n",
    "\n",
    "> **User Profile Creation:** Create a user profile based on the features of items the user has shown interest in.\n",
    "\n",
    "> **Item-User Matching:** Recommend items that match the user profile based on content similarity.\n",
    "\n",
    "Content-Based Filtering can provide personalized recommendations even when there's limited user-item interaction data. It's useful when you have detailed information about items and want to recommend items with specific features that match the user's preferences.\n",
    "\n",
    "<div style=\"margin-top: 20px;\"></div>\n",
    "<div style=\"text-align:center;\">\n",
    "    <img src=\"https://miro.medium.com/v2/resize:fit:1400/1*H_MMnrpLQrqTSJHdDOCMoA.png\" alt=\"Image\" width=700\"/>\n",
    "</div>\n"
   ]
  },
  {
   "cell_type": "markdown",
   "id": "dcedc6e8",
   "metadata": {
    "papermill": {
     "duration": 0.026761,
     "end_time": "2023-08-12T10:43:03.258867",
     "exception": false,
     "start_time": "2023-08-12T10:43:03.232106",
     "status": "completed"
    },
    "tags": []
   },
   "source": [
    "In this notebook, we'll use the **ALS (Alternating Least Squares) algorithm** to build a recommendation model .\n",
    "\n",
    "# ALS (Alternating Least Squares) Algorithm:\n",
    "\n",
    "The Alternating Least Squares (ALS) algorithm is a matrix factorization technique commonly used in recommendation systems. It is particularly effective for collaborative filtering-based recommendations. ALS factors a large user-item interaction matrix into two lower-dimensional matrices, one representing users and the other representing items. This factorization allows the model to capture latent features that drive user preferences and item characteristics.\n",
    "\n",
    "<div style=\"margin-top: 20px;\"></div>\n",
    "<div style=\"text-align:center;\">\n",
    "    <img src=\"https://encrypted-tbn0.gstatic.com/images?q=tbn:ANd9GcRNTOCmkt_KnEczjqLaWkox57kelGe4TX05njwLCG1wjAX-Tf5C8qIdVDhNYPVr_Adf2kk&usqp=CAU\" alt=\"Image\" width=\"600\"/>\n",
    "</div>\n",
    "\n",
    "\n",
    "<div style=\"margin-top: 20px;\"></div>\n",
    "\n",
    "Here's how ALS works:\n",
    "\n",
    "**1. Matrix Factorization:** ALS begins with the user-item interaction matrix (often sparse), where rows represent users, columns represent items, and the entries contain user ratings or interactions.\n",
    "\n",
    "**2. Initialization:** ALS initializes the user and item matrices with random or small values.\n",
    "\n",
    "**3. Alternating Optimization:** The ALS algorithm iteratively alternates between optimizing the user factors (representing user preferences) while keeping the item factors fixed, and optimizing the item factors while keeping the user factors fixed. This alternating optimization process continues until it converges to a solution that minimizes the reconstruction error (least squares difference) between the original user-item interaction matrix and the product of the user and item factor matrices.\n",
    "\n",
    "**4. Latent Features:** The key idea is that ALS learns latent features from the data. Each latent feature represents a hidden characteristic that contributes to user preferences or item characteristics. For example, in a movie recommendation system, latent features might capture genre preferences, actor popularity, or viewer demographics.\n",
    "\n",
    "**5. Collaborative Filtering:** ALS leverages collaborative filtering, assuming that users who have agreed in the past (by rating or interacting with similar items) will agree in the future. By factorizing the user-item matrix, ALS can uncover these collaborative patterns.\n",
    "\n",
    "**6. Implicit and Explicit Feedback:** ALS can handle both explicit feedback (e.g., explicit user ratings) and implicit feedback (e.g., user interactions such as clicks, views). It is particularly effective in scenarios with implicit feedback where explicit ratings are sparse.\n",
    "\n",
    "**7. Parallelization:** ALS is designed for parallel and distributed computing, making it efficient for large-scale recommendation scenarios. It can be parallelized across users or items, leveraging the power of distributed systems.\n",
    "\n",
    "**8. Model Evaluation:** After training, ALS can generate recommendations for items that users have not interacted with. These recommendations are based on the learned latent factors and can be evaluated using metrics like precision, recall, or root mean squared error (RMSE) for rating predictions."
   ]
  },
  {
   "cell_type": "markdown",
   "id": "ffe39a59",
   "metadata": {
    "papermill": {
     "duration": 0.028179,
     "end_time": "2023-08-12T10:43:03.314793",
     "exception": false,
     "start_time": "2023-08-12T10:43:03.286614",
     "status": "completed"
    },
    "tags": []
   },
   "source": [
    "# Modelling"
   ]
  },
  {
   "cell_type": "code",
   "execution_count": 11,
   "id": "838067f5",
   "metadata": {
    "execution": {
     "iopub.execute_input": "2023-08-12T10:43:03.374383Z",
     "iopub.status.busy": "2023-08-12T10:43:03.373224Z",
     "iopub.status.idle": "2023-08-12T10:51:04.653439Z",
     "shell.execute_reply": "2023-08-12T10:51:04.652228Z"
    },
    "papermill": {
     "duration": 481.311435,
     "end_time": "2023-08-12T10:51:04.656048",
     "exception": false,
     "start_time": "2023-08-12T10:43:03.344613",
     "status": "completed"
    },
    "tags": []
   },
   "outputs": [
    {
     "name": "stderr",
     "output_type": "stream",
     "text": [
      "                                                                                \r"
     ]
    }
   ],
   "source": [
    "from pyspark.ml.recommendation import ALS    \n",
    "\n",
    "# Build the recommendation model using ALS on the training data\n",
    "als = ALS(maxIter=15, regParam=0.01, userCol=\"userId\" ,itemCol=\"movieId\", ratingCol=\"rating\")\n",
    "#Fit the Model on Item-Based Data\n",
    "model = als.fit(train_data)"
   ]
  },
  {
   "cell_type": "markdown",
   "id": "0d26c6bd",
   "metadata": {
    "papermill": {
     "duration": 0.039531,
     "end_time": "2023-08-12T10:51:04.736265",
     "exception": false,
     "start_time": "2023-08-12T10:51:04.696734",
     "status": "completed"
    },
    "tags": []
   },
   "source": [
    "In this step, the ALS model is initialized with the following parameters:\n",
    "> \n",
    "> **maxIter:** The maximum number of iterations for the ALS optimization process.\n",
    "> \n",
    "> **regParam:** The regularization parameter that helps control overfitting.\n",
    "> \n",
    "> **userCol:** The name of the column representing user IDs in the DataFrame.\n",
    "> \n",
    "> \n",
    "> **itemCol:** The name of the column representing item (movie) IDs in the DataFrame.\n",
    "> \n",
    "> \n",
    "> **ratingCol:** The name of the column representing user ratings in the DataFrame."
   ]
  },
  {
   "cell_type": "markdown",
   "id": "72dfec3b",
   "metadata": {
    "papermill": {
     "duration": 0.040107,
     "end_time": "2023-08-12T10:51:04.816247",
     "exception": false,
     "start_time": "2023-08-12T10:51:04.776140",
     "status": "completed"
    },
    "tags": []
   },
   "source": [
    "# Evaluation"
   ]
  },
  {
   "cell_type": "code",
   "execution_count": 12,
   "id": "3c6f2779",
   "metadata": {
    "execution": {
     "iopub.execute_input": "2023-08-12T10:51:04.897706Z",
     "iopub.status.busy": "2023-08-12T10:51:04.896566Z",
     "iopub.status.idle": "2023-08-12T10:52:04.207354Z",
     "shell.execute_reply": "2023-08-12T10:52:04.205412Z"
    },
    "papermill": {
     "duration": 59.355828,
     "end_time": "2023-08-12T10:52:04.211570",
     "exception": false,
     "start_time": "2023-08-12T10:51:04.855742",
     "status": "completed"
    },
    "tags": []
   },
   "outputs": [
    {
     "name": "stderr",
     "output_type": "stream",
     "text": [
      "[Stage 96:================================================>         (5 + 1) / 6]\r"
     ]
    },
    {
     "name": "stdout",
     "output_type": "stream",
     "text": [
      "+------+-------+------+----------+----------+\n",
      "|userId|movieId|rating| timestamp|prediction|\n",
      "+------+-------+------+----------+----------+\n",
      "|     1|    307|   5.0|1147868828|  3.775222|\n",
      "|     1|   1175|   3.5|1147868826|  4.285661|\n",
      "|     1|   2011|   2.5|1147868079| 2.5890808|\n",
      "|     1|   2012|   2.5|1147868068|  2.346777|\n",
      "|     1|   2632|   5.0|1147878248| 3.6184216|\n",
      "|     1|   3949|   5.0|1147868678| 4.0795074|\n",
      "|     1|   4973|   4.5|1147869080| 4.4602065|\n",
      "|     1|   5147|   4.0|1147877654| 3.7788172|\n",
      "|     1|   5767|   5.0|1147878729|  3.702332|\n",
      "|     1|   5878|   4.0|1147868807| 4.4601207|\n",
      "|     1|   5912|   3.0|1147878698| 4.0899343|\n",
      "|     1|   6370|   4.5|1147869191| 3.9104455|\n",
      "|     1|   6539|   3.5|1147868461| 3.3873172|\n",
      "|     1|   7327|   3.5|1147868855| 3.8776317|\n",
      "|     1|   8014|   3.5|1147869155| 4.0531464|\n",
      "|     1|   8729|   3.5|1147878452| 3.3115714|\n",
      "| 32906|   1196|   5.0| 965798810|  4.502522|\n",
      "| 32906|   1209|   5.0| 965799052|  4.632311|\n",
      "| 32906|   1231|   5.0| 965802182|  4.751264|\n",
      "| 32906|   1233|   5.0| 965798677|  4.834319|\n",
      "+------+-------+------+----------+----------+\n",
      "only showing top 20 rows\n",
      "\n"
     ]
    },
    {
     "name": "stderr",
     "output_type": "stream",
     "text": [
      "                                                                                \r"
     ]
    }
   ],
   "source": [
    "# Make predictions on the test data using the trained model\n",
    "predictions = model.transform(test_data)\n",
    "\n",
    "# Show the predictions, including original columns and the \"prediction\" column\n",
    "predictions.show()\n"
   ]
  },
  {
   "cell_type": "code",
   "execution_count": 13,
   "id": "7ccc2d56",
   "metadata": {
    "execution": {
     "iopub.execute_input": "2023-08-12T10:52:04.314054Z",
     "iopub.status.busy": "2023-08-12T10:52:04.313701Z",
     "iopub.status.idle": "2023-08-12T10:52:04.331937Z",
     "shell.execute_reply": "2023-08-12T10:52:04.331003Z"
    },
    "papermill": {
     "duration": 0.066183,
     "end_time": "2023-08-12T10:52:04.336480",
     "exception": false,
     "start_time": "2023-08-12T10:52:04.270297",
     "status": "completed"
    },
    "tags": []
   },
   "outputs": [],
   "source": [
    "# Drop rows where the \"prediction\" column has missing values (nulls)\n",
    "predictions_no_missing = predictions.na.drop(subset=[\"prediction\"])\n"
   ]
  },
  {
   "cell_type": "markdown",
   "id": "e3d8a217",
   "metadata": {
    "papermill": {
     "duration": 0.04078,
     "end_time": "2023-08-12T10:52:04.422080",
     "exception": false,
     "start_time": "2023-08-12T10:52:04.381300",
     "status": "completed"
    },
    "tags": []
   },
   "source": [
    "> In this step, you're using the RegressionEvaluator to compute the **Root Mean Squared Error (RMSE)** between the predicted ratings (\"predictionCol\") and the actual ratings (\"labelCol\") in the test data. This metric provides a quantitative measure of how well the model's predictions align with the ground truth. \n",
    "\n",
    "<div style=\"margin-top: 20px;\"></div>\n",
    "<div style=\"text-align:center;\">\n",
    "    <img src=\"https://miro.medium.com/v2/resize:fit:966/1*lqDsPkfXPGen32Uem1PTNg.png\" alt=\"Image\" width=\"600\"/>\n",
    "</div>\n",
    "\n"
   ]
  },
  {
   "cell_type": "code",
   "execution_count": 14,
   "id": "3c968e37",
   "metadata": {
    "execution": {
     "iopub.execute_input": "2023-08-12T10:52:04.506044Z",
     "iopub.status.busy": "2023-08-12T10:52:04.505679Z",
     "iopub.status.idle": "2023-08-12T10:53:22.544573Z",
     "shell.execute_reply": "2023-08-12T10:53:22.543518Z"
    },
    "papermill": {
     "duration": 78.181459,
     "end_time": "2023-08-12T10:53:22.644834",
     "exception": false,
     "start_time": "2023-08-12T10:52:04.463375",
     "status": "completed"
    },
    "tags": []
   },
   "outputs": [
    {
     "name": "stderr",
     "output_type": "stream",
     "text": [
      "[Stage 307:>                                                        (0 + 2) / 2]\r"
     ]
    },
    {
     "name": "stdout",
     "output_type": "stream",
     "text": [
      "Root Mean Squared Error (RMSE): 0.7990204104486563\n"
     ]
    },
    {
     "name": "stderr",
     "output_type": "stream",
     "text": [
      "                                                                                \r"
     ]
    }
   ],
   "source": [
    "from pyspark.ml.evaluation import RegressionEvaluator\n",
    "\n",
    "# Create a RegressionEvaluator instance with the specified metricName and columns\n",
    "evaluator = RegressionEvaluator(metricName=\"rmse\", labelCol=\"rating\", predictionCol=\"prediction\")\n",
    "\n",
    "# Compute the RMSE on the predictions using the RegressionEvaluator\n",
    "rmse = evaluator.evaluate(predictions_no_missing)\n",
    "\n",
    "# Print the calculated RMSE\n",
    "print(f'Root Mean Squared Error (RMSE): {rmse}')\n"
   ]
  },
  {
   "cell_type": "markdown",
   "id": "8e4856de",
   "metadata": {
    "papermill": {
     "duration": 0.068145,
     "end_time": "2023-08-12T10:53:22.781060",
     "exception": false,
     "start_time": "2023-08-12T10:53:22.712915",
     "status": "completed"
    },
    "tags": []
   },
   "source": [
    "> In this part, we're focusing on a single user with userId=12 from the test data. we select the ratings for this user, show their ratings, then use the trained model to make personalized recommendations for this user. The recommendations are displayed, ordered by the prediction score in descending order, which helps you understand which items (movies) are being recommended to the user based on their predicted preferences."
   ]
  },
  {
   "cell_type": "code",
   "execution_count": 15,
   "id": "260cbeb7",
   "metadata": {
    "execution": {
     "iopub.execute_input": "2023-08-12T10:53:22.893384Z",
     "iopub.status.busy": "2023-08-12T10:53:22.893024Z",
     "iopub.status.idle": "2023-08-12T10:53:36.575437Z",
     "shell.execute_reply": "2023-08-12T10:53:36.574494Z"
    },
    "papermill": {
     "duration": 13.737377,
     "end_time": "2023-08-12T10:53:36.579259",
     "exception": false,
     "start_time": "2023-08-12T10:53:22.841882",
     "status": "completed"
    },
    "tags": []
   },
   "outputs": [
    {
     "name": "stderr",
     "output_type": "stream",
     "text": [
      "[Stage 308:>                                                        (0 + 1) / 1]\r"
     ]
    },
    {
     "name": "stdout",
     "output_type": "stream",
     "text": [
      "+-------+------+\n",
      "|movieId|userId|\n",
      "+-------+------+\n",
      "|     21|    12|\n",
      "|     32|    12|\n",
      "|     36|    12|\n",
      "|     48|    12|\n",
      "|     54|    12|\n",
      "|     97|    12|\n",
      "|    141|    12|\n",
      "|    150|    12|\n",
      "|    231|    12|\n",
      "|    261|    12|\n",
      "|    317|    12|\n",
      "|    329|    12|\n",
      "|    344|    12|\n",
      "|    433|    12|\n",
      "|    435|    12|\n",
      "|    505|    12|\n",
      "|    516|    12|\n",
      "|    531|    12|\n",
      "|    546|    12|\n",
      "|    555|    12|\n",
      "+-------+------+\n",
      "only showing top 20 rows\n",
      "\n"
     ]
    },
    {
     "name": "stderr",
     "output_type": "stream",
     "text": [
      "                                                                                \r"
     ]
    }
   ],
   "source": [
    "single_user = test_data.filter(test_data['userId']==12).select(['movieId','userId'])\n",
    "# User had 10 ratings in the test data set \n",
    "# Realistically this should be some sort of hold out set!\n",
    "single_user.show()"
   ]
  },
  {
   "cell_type": "code",
   "execution_count": 16,
   "id": "36d2b259",
   "metadata": {
    "execution": {
     "iopub.execute_input": "2023-08-12T10:53:36.831358Z",
     "iopub.status.busy": "2023-08-12T10:53:36.830944Z",
     "iopub.status.idle": "2023-08-12T10:54:41.165948Z",
     "shell.execute_reply": "2023-08-12T10:54:41.164851Z"
    },
    "papermill": {
     "duration": 64.464487,
     "end_time": "2023-08-12T10:54:41.170482",
     "exception": false,
     "start_time": "2023-08-12T10:53:36.705995",
     "status": "completed"
    },
    "tags": []
   },
   "outputs": [
    {
     "name": "stderr",
     "output_type": "stream",
     "text": [
      "[Stage 309:===============================================>         (5 + 1) / 6]\r"
     ]
    },
    {
     "name": "stdout",
     "output_type": "stream",
     "text": [
      "+-------+------+----------+\n",
      "|movieId|userId|prediction|\n",
      "+-------+------+----------+\n",
      "|   1221|    12|  4.463186|\n",
      "|   4973|    12| 4.4138527|\n",
      "|    745|    12|  4.412603|\n",
      "|    750|    12|  4.408183|\n",
      "|   1212|    12| 4.2824597|\n",
      "|   3435|    12| 4.2821407|\n",
      "|    910|    12| 4.2551937|\n",
      "|   1288|    12| 4.2434106|\n",
      "|  55820|    12|  4.227254|\n",
      "|   8961|    12| 4.2199903|\n",
      "|   1267|    12| 4.1800976|\n",
      "|   2804|    12|  4.154967|\n",
      "|   1089|    12| 4.1333623|\n",
      "|  48394|    12|  4.125283|\n",
      "|   6377|    12|  4.112085|\n",
      "|   4027|    12| 4.0882163|\n",
      "|   1244|    12|  4.074768|\n",
      "|  30749|    12| 4.0727825|\n",
      "|   1449|    12|  4.068479|\n",
      "|   5669|    12|  4.055026|\n",
      "+-------+------+----------+\n",
      "only showing top 20 rows\n",
      "\n"
     ]
    },
    {
     "name": "stderr",
     "output_type": "stream",
     "text": [
      "                                                                                \r"
     ]
    }
   ],
   "source": [
    "reccomendations = model.transform(single_user)\n",
    "reccomendations.orderBy('prediction',ascending=False).show()"
   ]
  }
 ],
 "metadata": {
  "kernelspec": {
   "display_name": "Python 3 (ipykernel)",
   "language": "python",
   "name": "python3"
  },
  "language_info": {
   "codemirror_mode": {
    "name": "ipython",
    "version": 3
   },
   "file_extension": ".py",
   "mimetype": "text/x-python",
   "name": "python",
   "nbconvert_exporter": "python",
   "pygments_lexer": "ipython3",
   "version": "3.11.5"
  },
  "papermill": {
   "default_parameters": {},
   "duration": 1129.787212,
   "end_time": "2023-08-12T10:54:43.962962",
   "environment_variables": {},
   "exception": null,
   "input_path": "__notebook__.ipynb",
   "output_path": "__notebook__.ipynb",
   "parameters": {},
   "start_time": "2023-08-12T10:35:54.175750",
   "version": "2.4.0"
  }
 },
 "nbformat": 4,
 "nbformat_minor": 5
}
